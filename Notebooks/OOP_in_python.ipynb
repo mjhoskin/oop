{
 "cells": [
  {
   "cell_type": "markdown",
   "metadata": {},
   "source": [
    "<hr style=\"width:100%;height:4px;border-width:0;color:gray;background-color:#003d59; opacity:0.25\">\n",
    "<img src=\"../Images/AF_DSC_banner_big.png\">\n",
    "<hr style=\"width:100%;height:4px;border-width:0;color:gray;background-color:#003d59; opacity:0.25\">\n",
    "\n",
    "# Object Orientated Programming\n",
    "\n",
    "Course Released August-2021 \n",
    "\n",
    "Need help? [Contact the team](mailto:GSS.Capability@statistics.gov.uk?subject=Object%20Orientated%20Programming)\n",
    "\n",
    "\n",
    "* [Introduction](#Introduction)\n",
    "    - [Everything in Python is an Object](#Everything-in-Python-is-an-Object)\n",
    "    - [Methods and Attributes](#Methods-and-Attributes)\n",
    "    - [General Examples](#General-Examples)\n",
    "    - [Why we Create them Ourselves](#Why-we-Create-them-Ourselves)\n",
    "   \n",
    "    \n",
    "* [Basic Class Structure](#Basic-Class-Structure)\n",
    "    - [`__init__`](#__init__)\n",
    "        - [Exercise 1](#Exercise-1)\n",
    "    - [Self](#Self)\n",
    "    - [Attributes and Methods](#Attributes-and-Methods)\n",
    "        - [Exercise 2](#Exercise-2)\n",
    "    \n",
    "    \n",
    "* [Inheritance](#Inheritance)\n",
    "    - [Exercise 3](#Exercise-3)\n",
    "\n",
    "\n",
    "* [Magic Methods](#Magic-Methods)\n",
    "    - [Displaying objects with **`__repr__`** and **`__str__`**](#Displaying-objects-with-__repr__-and-__str__) \n",
    "        - [Exercise 4](#Exercise-4)\n",
    "    - [Comparisons and Combinations](#Comparisons-and-Combinations)\n",
    "        - [Comparisons](#Comparisons)\n",
    "        - [Exercise 5](#Exercise-5)\n",
    "        - [Combinations](#Combinations)\n",
    "        - [Exercise 6](#Exercise-6)\n",
    "    - [Changing Objects](#Changing-Objects)\n",
    "        - [Getters and Setters](#Getters-and-Setters)\n",
    "        - [Properties](#Properties)\n",
    "        - [Decorators](#Decorators)\n",
    "        - [Callable objects](#Callable-objects)\n",
    "        - [Exercise 7](#Exercise-7)\n",
    "   \n",
    "    \n",
    "* [Case Study](#Case-Study)\n",
    "* [Summary](#Summary)\n"
   ]
  },
  {
   "cell_type": "markdown",
   "metadata": {},
   "source": [
    "<hr style=\"width:100%;height:4px;border-width:0;color:gray;background-color:#003d59; opacity:1\">\n",
    "\n",
    "## Introduction\n",
    "\n",
    "[Return to Top](#Object-Orientated-Programming)\n",
    "\n",
    "**Learning Outcomes**\n",
    "\n",
    "By the end of this course learners should:\n",
    "\n",
    "- Have a better understanding of previously experienced Python objects\n",
    "- Be able to create simple classes to hold data\n",
    "- Be able to augment classes with complicated methods and powerful tools\n",
    "- Be familiar with:\n",
    "    - inheriting objects\n",
    "    - comparing objects\n",
    "    - combining objects\n",
    "    - decorating objects\n",
    "\n",
    "\n",
    "\n",
    "**Learner requirements:** \n",
    "\n",
    "Learners should have a good level of experience with Python. Python knowledge of at least [Introduction to Python](https://learninghub.ons.gov.uk/course/view.php?name=introduction_to_python) and [experience creating functions](https://learninghub.ons.gov.uk/course/view.php?name=py_control_flow_loops_functions) is required. \n",
    "\n",
    "**Software requirements:**\n",
    "\n",
    "Jupyter Notebooks is essential for running this course. Jupyter should come with any installation of Anaconda. Code cells should be run as they are reached. If unfamiliar with notebooks, [basic training on Jupyter Notebooks](https://learninghub.ons.gov.uk/course/view.php?name=jupyter_notebooks) is available.\n",
    "\n",
    "- Essential:\n",
    "    - **`dataclasses`**\n",
    "    - **`datetime`**\n",
    "- Used for demonstration purposes only:\n",
    "    - **`pandas`**  (Course tested with version 1.0.5)\n",
    "    - **`scikit-learn`** (Course tested with version 0.23.1)\n",
    "\n",
    "The essential packages should be readily available with any Python install. The demonstration ones are optional. \n",
    "\n",
    "<hr style=\"width:75%;height:4px;border-width:0;color:gray;background-color:#003d59; opacity:0.75\"> \n",
    "\n",
    "### Everything in Python is an Object\n",
    "\n",
    "Object Orientated Programming is a fundamental part of Python, and one that every Python user, from those learning it for the first time, to those experienced performing complex data analysis and writing software packages, will have used - whether they know it or not. \n",
    "\n",
    "The first time a new learner runs **`.sort()`** or **`.pop()`** on a list, they are running code that is defined as part of the list object. When someone new to DataFrames and pandas looks at the **`.shape`** of a DataFrame, they are finding fundamental information that is part of their specific DataFrame object. \n",
    "\n",
    "<hr style=\"width:75%;height:4px;border-width:0;color:gray;background-color:#003d59; opacity:0.75\"> \n",
    "\n",
    "### Methods and Attributes\n",
    "\n",
    "Methods and attributes belong to objects themselves. They are first defined when the object class is created, and then have some effect on any instance of that object. A method acts like a function specific to the object - **`.sort()`** will take the items in a list, and sort them as best it can - reordering the list object. An attribute acts like a variable specific to that object - A DataFrame will have a **`.shape`** attribute that just states, as a tuple, the number of columns and number of rows that are included in the data. This attribute will be overwritten anytime more rows are appended, or extra columns are added, as the DataFrame class updates it anytime the dimensions change. \n",
    "\n",
    "<hr style=\"width:75%;height:4px;border-width:0;color:gray;background-color:#003d59; opacity:0.75\"> \n",
    "\n",
    "### General Examples\n",
    "\n",
    "Everything in Python is an object - any variable type will have some methods and attributes associated with it. For example:\n",
    "\n",
    "* List\n",
    "  * **`.pop()`** - method to remove an item and return it for use outside of the list\n",
    "  * **`.sort()`** - method to sort a list\n",
    "  * **`.count()`** - method to count the number of occurances of a value passed into the method\n",
    "* String\n",
    "  * **`.upper()`** - method to convert the string to upper case\n",
    "  * **`.split()`** - method to split the string by a specified character\n",
    "  * **`.__class__`** - returns the class of the object - in this case **`str`**\n",
    "* DataFrame\n",
    "  * **`.shape`** - attribute containing the size of the DataFrame\n",
    "  * **`.append()`** - method to appends rows or columns to the DataFrame\n",
    "  * **`.head()`** - method to display the first rows of the DataFrame\n",
    "  \n",
    "<hr style=\"width:75%;height:4px;border-width:0;color:gray;background-color:#003d59; opacity:0.75\"> \n",
    "\n",
    "### Why we Create them Ourselves\n",
    "\n",
    "Creating our own classes allows us to model complicated real world entities by creating custom data types - for events, activities, customers. Connections between these entities can be built in - a customer could attend an event, and complete a specific activity at the event. When the class is created, the behaviour of entity can be defined, and code created to handle a variety of tasks. \n",
    "\n",
    "For manipulating data, classes can be created to collate methods into an easy to understand structure. Popular packages used for analysis lean heavily into this - scikit-learn below has a LinearRegression class, which is a useful container for all the functions you might want to perform on a linear regression. Rather than having a variety of functions within sklearn with tediously long names to be fully descriptive - **`linear_model_linear_regression_coef_`**, **`linear_model_linear_regression_copy_X`**, a user can create a single linear regression **`lr`** object which contains all of the methods that might be needed. \n",
    "\n",
    "<img src=\"../Images/lr_dropdown.png\">"
   ]
  },
  {
   "cell_type": "markdown",
   "metadata": {},
   "source": [
    "Running **`dir()`** on the object created below shows all the methods available to it - below the ones beginning with underscores which are magic methods and are covered later, are those from the **`LinearRegression`** class. "
   ]
  },
  {
   "cell_type": "code",
   "execution_count": null,
   "metadata": {
    "collapsed": true
   },
   "outputs": [],
   "source": [
    "from sklearn.linear_model import LinearRegression #requires scikit-learn for cell to run. \n",
    "\n",
    "lr = LinearRegression()\n",
    "dir(lr) "
   ]
  },
  {
   "cell_type": "markdown",
   "metadata": {},
   "source": [
    "[Return to Top](#Object-Orientated-Programming)\n",
    "<hr style=\"width:100%;height:4px;border-width:0;color:gray;background-color:#003d59; opacity:1\"> \n",
    "\n",
    "## Basic Class Structure\n",
    "\n",
    "The keyword **`class`** is used to define a class in Python - much like **`def`** is used to define a function. At a glance, the syntax to define a class looks very similar to defining a function - the keyword **`class`**, followed by the name of the class, an optional open-close parentheses pair, and a colon:\n",
    "\n",
    "\n",
    "```python\n",
    "class Parrot:\n",
    "```\n",
    "or\n",
    "```python\n",
    "class Parrot():\n",
    "```\n",
    "\n",
    "Inside the brackets, an existing class name can be passed - this allows for the class being defined to inherit features from a parent class - [more on this can be found in Inheritance below](#Inheritance). If the class is not inheriting, the parentheses will generally be left out.\n",
    "\n",
    "Class names should gnerally use the CapWords convention with an initial capital letter, which helps distinguish them from functions. \n",
    "\n",
    "Once a class has been created, instances of it can be created and stored as variables. As with built-in classes, any number of instances of user-created classes can be created. Since there are no limitations on how many lists, dictionaries, or DataFrames that can be created the same is true for these.\n",
    "\n",
    "```python\n",
    "polly = Parrot()\n",
    "molly = Parrot()\n",
    "```\n",
    "\n",
    "Here, two objects have been created - one called **`polly`** and one called **`molly`**. They are both created from the **`Parrot`** class, but are distinct objects. As with two separate lists, changes can be made to one parrot without effecting the other. "
   ]
  },
  {
   "cell_type": "markdown",
   "metadata": {},
   "source": [
    "<hr style=\"width:75%;height:4px;border-width:0;color:gray;background-color:#003d59; opacity:0.75\"> \n",
    "\n",
    "### `__init__`\n",
    "\n",
    "There are a range of different things that can be added to a class, but arguably the most important is the [Magic Method](#Magic-Methods): **`__init__`**. This is an in-built Python command that is used to initialise the class - it is called when an object is first created. \n",
    "\n",
    "**`__init__()`** works like any other function. Arguments can be passed into it, it can define variables, it can run other functions and do calculations. As it is called when an object is first initialised, it can be used to set up any fundamental properties of the class - things which are essential, and all examples of the class must have. \n",
    "\n",
    "```python\n",
    "class Parrot():\n",
    "\n",
    "    def __init__(self, name):\n",
    "        \"\"\"\n",
    "        initialises the object and sets some object wide attributes\n",
    "        \"\"\"\n",
    "        self.name = name```\n",
    "        \n",
    "Within this example, **`__init__()`** has two parameters, **`self`**, and **`name`**. **`self`** is a key part of classes, and allows for defined variables to be accessed within the wider class object, rather than being limited in scope to the function they are defined within. Generally, all methods within a class will have an inital parameter of **`self`**. \n",
    "\n",
    "The second parameter, **`name`**, allows for a user to define their parrot object with a specific name. The line **`self.name = name`** takes the argument that the user defines, and stores it in the class wide **`self.name`** attribute, rather than their name being only usable within the **`__init__()`** method.\n",
    "\n",
    "Note that in the code above a simple docstring has been added - the text between the triple sets of speech marks `\"\"\"`. Docstrings are good to include for all functions and methods.  \n",
    "\n",
    "<hr style=\"width:75%;height:4px;border-width:0;color:gray;background-color:#003d59; opacity:0.75\">"
   ]
  },
  {
   "cell_type": "markdown",
   "metadata": {},
   "source": [
    "### Exercise 1\n",
    "\n",
    "1. Create a **`Coord`** class, where the initialisation method should take an **`x`** and **`y`** value.<br> \n",
    "    1.1. Ensure that the initialised x and y values are stored as **`self.`** variables.\n",
    "2. Create a **`Coord`** object called **`location`** with a numerical **`x`** and a numerical **`y`** value.\n",
    "3. Print the value of $x^2 + y^2$."
   ]
  },
  {
   "cell_type": "code",
   "execution_count": null,
   "metadata": {},
   "outputs": [],
   "source": [
    "#Complete the Exercise\n",
    "\n"
   ]
  },
  {
   "cell_type": "code",
   "execution_count": null,
   "metadata": {
    "collapsed": true
   },
   "outputs": [],
   "source": [
    "#Run cell once for solution, run twice to run solution code\n",
    "\n",
    "%load \"../Solutions/Exercise_1.py\""
   ]
  },
  {
   "cell_type": "markdown",
   "metadata": {},
   "source": [
    "<hr style=\"width:75%;height:4px;border-width:0;color:gray;background-color:#003d59; opacity:0.75\"> \n",
    "\n",
    "### Self"
   ]
  },
  {
   "cell_type": "markdown",
   "metadata": {},
   "source": [
    "Within the **`__init__()`** method, we can include any number of parameters which need to be specified on creation of a parrot object. Like other functions, these can have default values assigned to them, which are then optionally overwritten. \n",
    "\n",
    "This is done in the exact same way as it is for a function, adding extra parameters and assigning to them a default value with an equals sign. Like with functions, any argument without a default value must come before those with default values.  "
   ]
  },
  {
   "cell_type": "code",
   "execution_count": null,
   "metadata": {
    "collapsed": true
   },
   "outputs": [],
   "source": [
    "class Parrot():\n",
    "    \n",
    "    def __init__(self, name, can_fly=True):\n",
    "        self.name = name\n",
    "        \n",
    "polly = Parrot('polly')"
   ]
  },
  {
   "cell_type": "markdown",
   "metadata": {},
   "source": [
    "But, unless we add a **`self.`** line for these values, we cannot access them! The cell below will not run, because **`can_fly`** is currently limited in scope to the **`__init__`** method. Without a **`self.can_fly = can_fly`** line, the variable is not much use, and the parrot won't be able to fly. "
   ]
  },
  {
   "cell_type": "code",
   "execution_count": null,
   "metadata": {},
   "outputs": [],
   "source": [
    "polly.can_fly #doesn't work - there is no class level can_fly attribute"
   ]
  },
  {
   "cell_type": "code",
   "execution_count": null,
   "metadata": {},
   "outputs": [],
   "source": [
    "class Parrot():\n",
    "    \n",
    "    def __init__(self, name, can_fly=True):\n",
    "        \"\"\"\n",
    "        initialises the object and sets some object wide attributes\n",
    "        \"\"\"\n",
    "        self.name = name\n",
    "        self.can_fly = can_fly\n",
    "        \n",
    "polly = Parrot('polly')\n",
    "polly.can_fly #does work due to line 8"
   ]
  },
  {
   "cell_type": "markdown",
   "metadata": {},
   "source": [
    "<hr style=\"width:75%;height:4px;border-width:0;color:gray;background-color:#003d59; opacity:0.75\"> \n",
    "\n",
    "### Attributes and Methods\n",
    "\n",
    "Classes can have both attributes and methods associated to them, where attributes are primarily facts about the object - such as its name, its colour, or its age - and methods are things that the object can do, or that can be done to the object. \n",
    "\n",
    "Taking a common object, the pandas DataFrame, it has attributes such as **`shape`**, **`dtypes`**, and **`columns`**. These are all things that describe parts of the DataFrame - the number of rows and columns, the data types of the columns, and the names of the columns respectively. \n",
    "\n",
    "The DataFrame also has methods such as **`merge`**, **`drop_duplicates`**, and **`dropna`** - to combine DataFrames, remove any non-distinct rows, and to remove null values. These all do things to the DataFrame, and generally have names with verbs in them. When used, they require a pair of parentheses **`()`** and have a number of mandatory and optional parameters.  \n",
    "\n",
    "User-defined classes can equally have any number of attributes and methods. In the earlier examples, the parrot has a **`name`** attribute, and then the **`can_fly`** attribute was created with a default value. As with Python in general, the only limit to the number of attributes and methods is the amount of computational power available, and the patience to write the code. "
   ]
  },
  {
   "cell_type": "code",
   "execution_count": null,
   "metadata": {
    "collapsed": true
   },
   "outputs": [],
   "source": [
    "class Parrot():\n",
    "    \n",
    "    def __init__(self, name, species, can_fly=True):\n",
    "        \"\"\"\n",
    "        initialises the object and sets some object wide attributes\n",
    "        \"\"\"\n",
    "        self.name = name\n",
    "        self.species = species\n",
    "        self.plumage = 'Beautiful'\n",
    "        self.can_fly = can_fly\n",
    "            \n",
    "    def pine(self):\n",
    "        print('{0} is pining for the fjords'.format(self.name))\n",
    "        \n",
    "        \n",
    "\n",
    "polly = Parrot('Polly','Norwegian Blue')"
   ]
  },
  {
   "cell_type": "code",
   "execution_count": null,
   "metadata": {},
   "outputs": [],
   "source": [
    "polly.pine()"
   ]
  },
  {
   "cell_type": "markdown",
   "metadata": {},
   "source": [
    "In the above example a few more attributes have been set. The user can now specify the **`species`** when creating a parrot instance, and the **`plumage`** is set to **`'Beautiful'`** for all parrots - with currently no way to change that. As with function definitions, any parameters with default arguments must come *after* those without, so **`can_fly`** has been pushed to the end. \n",
    "\n",
    "The parrot can also now pine for the fjords, by calling the **`pine()`** method. Again this has the **`self`** variable passed into it, so the **`name`** can be included in the printed text. [More information on the **`.format()`** method is widely available.](https://www.w3schools.com/python/ref_string_format.asp)"
   ]
  },
  {
   "cell_type": "markdown",
   "metadata": {},
   "source": [
    "<hr style=\"width:75%;height:4px;border-width:0;color:gray;background-color:#003d59; opacity:0.75\"> \n",
    "\n",
    "### Exercise 2\n",
    "\n",
    "1. Expand the **`Coord`** class created in Exercise 1 by adding a method called **`hypotenuse`**.<br>\n",
    "    1.1. This should return the value of $\\sqrt{x^2 + y^2}$ - the distance from the origin. <br>\n",
    "    1.2. NOTE: The default **`math`** library includes a **`sqrt()`** function, **`import math`** will be needed to use it. <br>\n",
    "    1.3. Create an object with an **`x`** of 5, a **`y`** of 12, and display the hypotenuse. It should return 13.\n",
    "2. Add a **`z`** attribute with a default value of 0.\n",
    "3. Include this value in the **`hypotenuse`** calculation - $\\sqrt{x^2 + y^2 + z^2}$.<br>\n",
    "    3.1. Create an object with **`x`** and **`y`** values of 4, and a **`z`** of 7, and display the hypotenuse. It should return 9. "
   ]
  },
  {
   "cell_type": "code",
   "execution_count": null,
   "metadata": {
    "collapsed": true
   },
   "outputs": [],
   "source": [
    "#Run cell once for solution to previous exercise to use as a template\n",
    "\n",
    "%load \"../Solutions/Exercise_1.py\""
   ]
  },
  {
   "cell_type": "code",
   "execution_count": null,
   "metadata": {},
   "outputs": [],
   "source": [
    "#Complete the Exercise\n",
    "\n"
   ]
  },
  {
   "cell_type": "code",
   "execution_count": null,
   "metadata": {
    "collapsed": true
   },
   "outputs": [],
   "source": [
    "#Run cell once for solution, run twice to run solution code\n",
    "\n",
    "%load \"../Solutions/Exercise_2.py\""
   ]
  },
  {
   "cell_type": "markdown",
   "metadata": {},
   "source": [
    "[Return to Top](#Object-Orientated-Programming)\n",
    "<hr style=\"width:100%;height:4px;border-width:0;color:gray;background-color:#003d59; opacity:1\"> \n",
    "\n",
    "## Inheritance\n",
    "\n",
    "Our parrot is an animal, and there are a number of things which all living creatures can do. If a dog class was needed as well, the commonalities between dog and parrot could be coded in twice - once within each class, but that leads to the standard issue with duplicating code - it becomes very hard to maintain, and very easy to update one and not the other leading to diverging code bases. \n",
    "\n",
    "Instead, a single animal class can be created as a parent class, which both the dog and parrot classes inherit from. All parent attributes and methods are available to objects of the child classes. \n",
    "\n",
    "All living things breathe oxygen, have central nervous systems, and can move. This information could be added to every individual animal-type class manually, or a central **`Animal`** class can be created with these things set. \n",
    "\n",
    "The following **`Animal`** class is currently fairly bare-boned - it just sets three attributes to **`True`**, and has a single **`move()`** method, but could easily be expanded. A **`mammal`** class could inherit from it and add things such as **`birth_live_young()`**, and **`warm_blooded = True`**. "
   ]
  },
  {
   "cell_type": "code",
   "execution_count": null,
   "metadata": {
    "collapsed": true
   },
   "outputs": [],
   "source": [
    "class Animal():\n",
    "    \n",
    "    def __init__(self):\n",
    "        \"\"\"\n",
    "        initialises the object and sets some object wide attributes\n",
    "        \"\"\"\n",
    "        self.breathe_oxygen = True\n",
    "        self.nervous_system = True\n",
    "        self.can_move = True\n",
    "        \n",
    "        \n",
    "    def move(self, distance, direction):\n",
    "        print('Move {0} {1}'.format(distance, direction))"
   ]
  },
  {
   "cell_type": "code",
   "execution_count": null,
   "metadata": {},
   "outputs": [],
   "source": [
    "manfred = Animal()\n",
    "\n",
    "manfred.nervous_system"
   ]
  },
  {
   "cell_type": "markdown",
   "metadata": {},
   "source": [
    "Inheriting has a few important things to note, which could easily catch out the unaware. All methods will carry across without issue - an inheriting parrot will be able to **`move()`**. In the example below, the dog can both wag it's tail, and has a **`move()`** method, and the three boolean attributes are set - **`clifford`** can **`breathe_oxygen`** and has a **`nervous_system`**. The dog class however doesn't have it's own **`__init__`** method, so instead it runs the parent's version, and gets access to all of the parent attributes and methods."
   ]
  },
  {
   "cell_type": "code",
   "execution_count": null,
   "metadata": {},
   "outputs": [],
   "source": [
    "class Dog(Animal):\n",
    "    \n",
    "    def wag_tail(self):\n",
    "        print('Tail wagged')\n",
    "        \n",
    "clifford = Dog()\n",
    "\n",
    "clifford.wag_tail()\n",
    "if clifford.can_move:\n",
    "    clifford.move('5m', 'North')"
   ]
  },
  {
   "cell_type": "markdown",
   "metadata": {},
   "source": [
    "However, if the child class has it's own **`__init__`** method, the parent's **`__init__`** will not be run by default!"
   ]
  },
  {
   "cell_type": "code",
   "execution_count": null,
   "metadata": {},
   "outputs": [],
   "source": [
    "class Parrot(Animal):\n",
    "    \n",
    "    def __init__(self, name, species, can_fly=True):\n",
    "        \"\"\"\n",
    "        initialises the object and sets some object wide attributes\n",
    "        \"\"\"\n",
    "        self.name = name\n",
    "        self.species = species\n",
    "        self.plumage = 'Beautiful'\n",
    "        self.can_fly = can_fly\n",
    "                    \n",
    "    def pine(self):\n",
    "        print('{0} is pining for the fjords'.format(self.name))\n",
    "               \n",
    "\n",
    "polly = Parrot('Polly','Norwegian Blue')"
   ]
  },
  {
   "cell_type": "markdown",
   "metadata": {},
   "source": [
    "Polly can run the **`move()`** method perfectly fine because it is not defined in the **`Animal`** initialisation method, but none of the attributes are set! Trying to call on them will return an **`AttributeError`**. "
   ]
  },
  {
   "cell_type": "code",
   "execution_count": null,
   "metadata": {},
   "outputs": [],
   "source": [
    "polly.move('500m', 'North')"
   ]
  },
  {
   "cell_type": "code",
   "execution_count": null,
   "metadata": {},
   "outputs": [],
   "source": [
    "polly.can_move"
   ]
  },
  {
   "cell_type": "markdown",
   "metadata": {},
   "source": [
    "To fully initialise the parent animal **`__init__`** attributes, the parrot **`__init__`** can call the animal **`__init__`**. Looking at the resulting tabbed list of options, or using **`dir`**, gives the full set of attributes and methods from both the animal class, and the parrot class:\n",
    "\n",
    "<img src=\"../Images/polly_dropdown.png\">"
   ]
  },
  {
   "cell_type": "code",
   "execution_count": null,
   "metadata": {},
   "outputs": [],
   "source": [
    "class Parrot(Animal):\n",
    "    \n",
    "    def __init__(self, name, species, can_fly=True):\n",
    "        \"\"\"\n",
    "        initialises the object and sets some object wide attributes\n",
    "        \"\"\"\n",
    "        self.name = name\n",
    "        self.species = species\n",
    "        self.plumage = 'Beautiful'\n",
    "        self.can_fly = can_fly\n",
    "        \n",
    "        Animal.__init__(self) #including this line will set the three attributes set up in the animal __init__\n",
    "                    \n",
    "    \n",
    "    def pine(self):\n",
    "        print('{0} is pining for the fjords'.format(self.name))\n",
    "               \n",
    "\n",
    "polly = Parrot('Polly','Norwegian Blue')\n",
    "\n",
    "if polly.can_move:\n",
    "    polly.move('500m', 'North')"
   ]
  },
  {
   "cell_type": "markdown",
   "metadata": {},
   "source": [
    "There are two ways to run the parent **`__init__`**:\n",
    "\n",
    "```\n",
    "Animal.__init__(self)\n",
    "super().__init__()\n",
    "```\n",
    "\n",
    "The first as used in the cell above calls the name of the parent class, and requires the **`self`** value to be passed in. The second uses the generic **`super()`** function, which doesn't require **`self`** to be passed, and doesn't require the name of the parent class to be known. "
   ]
  },
  {
   "cell_type": "markdown",
   "metadata": {},
   "source": [
    "A child class is also considered by python to have multiple types. An object of the parrot class when tested with **`isinstance(polly, Parrot)`** will return **`True`**. However, it is also considered to be of the same type as the parent class - so **`isinstance(polly, Animal)`** will also return **`True`**. "
   ]
  },
  {
   "cell_type": "code",
   "execution_count": null,
   "metadata": {},
   "outputs": [],
   "source": [
    "print(isinstance(polly, Parrot) == True)\n",
    "print(isinstance(polly, Animal) == True)"
   ]
  },
  {
   "cell_type": "markdown",
   "metadata": {},
   "source": [
    "<hr style=\"width:75%;height:4px;border-width:0;color:gray;background-color:#003d59; opacity:0.75\"> \n",
    "\n",
    "### Exercise 3\n",
    "\n",
    "1. Expand the **`Coord`** class from Exercise 2 by adding a method called **`values`**.<br>\n",
    "    1.1. This should just return the values of **`x`**, **`y`**, and **`z`**.\n",
    "2. Create a new class called **`Velocity`**.<br> \n",
    "    2.1. This should inherit from the **`Coord`** class, and it's initialisation should call that of the parent class. \n",
    "3. Create a **`Velocity`** object called **`vel`** with values of 2, 4, and 6 for **`x`**, **`y`**, and **`z`** respectively.<br>\n",
    "    3.1. Call the **`values`** method of **`vel`** to check the numbers have been assigned correctly. "
   ]
  },
  {
   "cell_type": "code",
   "execution_count": null,
   "metadata": {
    "collapsed": true
   },
   "outputs": [],
   "source": [
    "#Run cell once for solution to previous exercise to use as a template\n",
    "\n",
    "%load \"../Solutions/Exercise_2.py\""
   ]
  },
  {
   "cell_type": "code",
   "execution_count": null,
   "metadata": {},
   "outputs": [],
   "source": [
    "#Complete the Exercise\n",
    "\n"
   ]
  },
  {
   "cell_type": "code",
   "execution_count": null,
   "metadata": {
    "collapsed": true
   },
   "outputs": [],
   "source": [
    "#Run cell once for solution, run twice to run solution code\n",
    "\n",
    "%load \"../Solutions/Exercise_3.py\""
   ]
  },
  {
   "cell_type": "markdown",
   "metadata": {},
   "source": [
    "[Return to Top](#Object-Orientated-Programming)\n",
    "<hr style=\"width:100%;height:4px;border-width:0;color:gray;background-color:#003d59; opacity:1\"> \n",
    "\n",
    "## Magic Methods\n",
    "\n",
    "The syntax of the **`__init__`** method looks a bit strange with the surrounding double underscores. This is called a Magic Method, and it has a distinct set of functionality within a class. It behaves in a predefined way - in this case it runs whenever an object of the containing class is spun up. \n",
    "\n",
    "There are a range of other Magic Methods which also behave in predefined ways. Some are useful for every user-defined class, others have slightly more niche uses, but are still powerful and useful to be aware of. \n",
    "\n",
    "In general, magic methods aren't called directly by programmers, rather they provide specific functionality when certain actions are applied to the class; for example the **`__add__`** magic method will be called if the **`+`** operator is used.\n"
   ]
  },
  {
   "cell_type": "markdown",
   "metadata": {},
   "source": [
    "<hr style=\"width:75%;height:4px;border-width:0;color:gray;background-color:#003d59; opacity:0.75\"> \n",
    "\n",
    "### Displaying objects with **`__repr__`** and **`__str__`**\n",
    "\n",
    "What happens if **`print()`** is run on a pandas DataFrame? Or just calling a DataFrame by itself? It displays information about the columns and the rows - showing some of the data contained within. \n",
    "\n",
    "There are also functions **`str()`** and **`repr()`** that do similar things - they will display information about the object at hand."
   ]
  },
  {
   "cell_type": "code",
   "execution_count": null,
   "metadata": {},
   "outputs": [],
   "source": [
    "import pandas as pd\n",
    "df = pd.DataFrame({'a':[1,2,3], 'b':[5,1,4]})\n",
    "print(df)"
   ]
  },
  {
   "cell_type": "code",
   "execution_count": null,
   "metadata": {},
   "outputs": [],
   "source": [
    "df"
   ]
  },
  {
   "cell_type": "markdown",
   "metadata": {},
   "source": [
    "If the same **`print()`** function is run on our parrot object, a fairly unhelpful line of text appears with the memory address of the object is displayed. Nothing particularly useful is displayed. \n",
    "\n",
    "This can be fixed by including one of two Magic Methods, **`__repr__`** or **`__str__`**. By setting one, or both, of these, the results of running any of the three functions above, or just calling the name of the object, can be altered. There is a fair amount of overlap between the effects of these methods, which can be seen in the table below which highlights what happens if any combination of **`__repr__`** and **`__str__`** are included in a class definition. "
   ]
  },
  {
   "cell_type": "markdown",
   "metadata": {},
   "source": [
    "| **`__repr__`** | **`__str__`** | &nbsp; | **`print()`** | **`str()`** | **`repr()`** | method call|\n",
    "| :--- | :--- | ---| --- | --- | --- | --- |\n",
    "| **Yes** | **Yes** | &nbsp; | Output of **`__str__`** | Output of **`__str__`** | Output of **`__repr__`**| Output of **`__repr__`**|\n",
    "| **Yes** | **No** |&nbsp;| Output of **`__repr__`**| Output of **`__repr__`**| Output of **`__repr__`**| Output of **`__repr__`**|\n",
    "| **No** | **Yes** |&nbsp;| Output of **`__str__`**| Output of **`__str__`**| Memory address| Memory address |\n",
    "| **No** | **No** |&nbsp;| Memory address | Memory address|Memory address | Memory address\n"
   ]
  },
  {
   "cell_type": "markdown",
   "metadata": {},
   "source": [
    "Given all functions will return something useful if just **`__repr__`** is included, while only two of them will if only **`__str__`** is, it's recommended to always use at least **`__repr__`**. \n",
    "\n",
    "To be more specific about the difference, it's useful to take a look at the effects on a datetime object."
   ]
  },
  {
   "cell_type": "code",
   "execution_count": null,
   "metadata": {},
   "outputs": [],
   "source": [
    "import datetime\n",
    "\n",
    "str(datetime.datetime.today())"
   ]
  },
  {
   "cell_type": "code",
   "execution_count": null,
   "metadata": {},
   "outputs": [],
   "source": [
    "repr(datetime.datetime.today())"
   ]
  },
  {
   "cell_type": "markdown",
   "metadata": {},
   "source": [
    "The **`str`** function displays a human-readable version, useful for including in log messages, or to provide key information at a glance. **`repr`** on the other hand provides a version that is more technical, and more useful for developers - it provides the line of code that can be used to recreate the object in its entirety. It is a more formal display compared to the informality of **`str`**. "
   ]
  },
  {
   "cell_type": "markdown",
   "metadata": {},
   "source": [
    "As with **`__init__`**, these methods can be added to the class in the usual way functions are defined, and should return a string that represents the object. Include in the string anything useful to define the instance of the object, such as it's name, or key features of it - using string formatting to include **`self`** attributes is very useful.\n",
    "\n",
    "Note also, that extended docstrings have been added where methods either have non-self parameters, or have a return. "
   ]
  },
  {
   "cell_type": "code",
   "execution_count": null,
   "metadata": {},
   "outputs": [],
   "source": [
    "class Parrot(Animal):\n",
    "    \n",
    "    def __init__(self, name, species, can_fly=True):\n",
    "        \"\"\"\n",
    "        Initialises the object and sets some object wide attributes\n",
    "        \n",
    "        Parameters\n",
    "        ----------\n",
    "        name: str\n",
    "            Given name of the parrot in question\n",
    "        species: str\n",
    "            Type of species of the parrot\n",
    "        can_fly: boolean, optional\n",
    "            Whether the parrot can fly. Defaults to True\n",
    "        \n",
    "        Notes\n",
    "        -----\n",
    "        Calls parent animal class init method.\n",
    "        Sets object wide 'plumage' variable to 'Beautiful'\n",
    "        \"\"\"\n",
    "        self.name = name\n",
    "        self.species = species\n",
    "        self.plumage = 'Beautiful'\n",
    "        self.can_fly = can_fly\n",
    "        \n",
    "        Animal.__init__(self) \n",
    "             \n",
    "    def __repr__(self): \n",
    "        \"\"\"\n",
    "        Specialised technical string to allow the reproduction of the object. \n",
    "        \n",
    "        Returns\n",
    "        -------\n",
    "        str: call needed to re-create object\n",
    "        \"\"\"\n",
    "        return \"Parrot({0}, {1})\".format(self.name, self.species)\n",
    "    \n",
    "    def __str__(self):\n",
    "        \"\"\"\n",
    "        More casual returned object describing the object.\n",
    "        \n",
    "        Returns\n",
    "        -------\n",
    "        str: text describing the object \n",
    "        \"\"\"\n",
    "        return \"Object is a parrot called {0} with {1} plumage\".format(self.name,\n",
    "                                                                       self.plumage)\n",
    "               \n",
    "    def pine(self):\n",
    "        \"\"\"\n",
    "        Method to allow the parrot to pine for fjords        \n",
    "        \"\"\"\n",
    "        print('{0} is pining for the fjords'.format(self.name))\n",
    "               \n",
    "\n",
    "polly = Parrot('Polly','Norwegian Blue')\n",
    "\n",
    "print(polly)"
   ]
  },
  {
   "cell_type": "code",
   "execution_count": null,
   "metadata": {},
   "outputs": [],
   "source": [
    "repr(polly)"
   ]
  },
  {
   "cell_type": "markdown",
   "metadata": {},
   "source": [
    "The difference between the output of running **`print()`** and **`repr()`** is quite large. "
   ]
  },
  {
   "cell_type": "markdown",
   "metadata": {},
   "source": [
    "In the above additions to the **`Parrot`** class, the word \"parrot\" has had to be hardcoded into both of the **`__repr__`** and **`__str__`** methods. While fine in this case, if the name of the class were changed, the descriptive methods would be out of date - another easy to miss manual fix that would be required. \n",
    "\n",
    "Thankfully, the name of the class itself - **`Parrot`** - can be extracted using the code **`self.__class__.__name__`** - some clear usage of magic methods. Including this in the method calls will reduce the risk of code falling out of sync.\n"
   ]
  },
  {
   "cell_type": "code",
   "execution_count": null,
   "metadata": {},
   "outputs": [],
   "source": [
    "class Parrot(Animal):\n",
    "    \n",
    "    def __init__(self, name, species, can_fly=True):\n",
    "        \"\"\"\n",
    "        Initialises the object and sets some object wide attributes\n",
    "        \n",
    "        Parameters\n",
    "        ----------\n",
    "        name: str\n",
    "            Given name of the parrot in question\n",
    "        species: str\n",
    "            Type of species of the parrot\n",
    "        can_fly: boolean, optional\n",
    "            Whether the parrot can fly. Defaults to True\n",
    "        \n",
    "        Notes\n",
    "        -----\n",
    "        Calls parent animal class init method.\n",
    "        Sets object wide 'plumage' variable to 'Beautiful'\n",
    "        \"\"\"\n",
    "        self.name = name\n",
    "        self.species = species\n",
    "        self.plumage = 'Beautiful'\n",
    "        self.can_fly = can_fly\n",
    "        \n",
    "        Animal.__init__(self) \n",
    "             \n",
    "    def __repr__(self): \n",
    "        \"\"\"\n",
    "        Specialised technical string to allow the reproduction of the object. \n",
    "        \n",
    "        Returns\n",
    "        -------\n",
    "        str: call needed to re-create object\n",
    "        \"\"\"\n",
    "        return \"{0}({1}, {2})\".format(self.__class__.__name__,\n",
    "                                      self.name, \n",
    "                                      self.species)\n",
    "    \n",
    "    def __str__(self):\n",
    "        \"\"\"\n",
    "        More casual returned object describing the object.\n",
    "        \n",
    "        Returns\n",
    "        -------\n",
    "        str: text describing the object \n",
    "        \"\"\"\n",
    "        return \"Object is a {0} called {1} with {2} plumage\".format(self.__class__.__name__,\n",
    "                                                                    self.name,\n",
    "                                                                    self.plumage)\n",
    "               \n",
    "    def pine(self):\n",
    "        print('{0} is pining for the fjords'.format(self.name))\n",
    "               \n",
    "\n",
    "polly = Parrot('Polly','Norwegian Blue')\n",
    "\n",
    "print(polly)\n",
    "\n",
    "\n",
    "#can also be called directly on the object rather than within the class methods\n",
    "print(polly.__class__.__name__)\n"
   ]
  },
  {
   "cell_type": "markdown",
   "metadata": {},
   "source": [
    "<hr style=\"width:75%;height:4px;border-width:0;color:gray;background-color:#003d59; opacity:0.75\"> \n",
    "\n",
    "### Exercise 4\n",
    "\n",
    "\n",
    "1. Expand the **`Coord`** class from Exercise 3 by adding docstrings where methods either take inputs which are not **`self`**, or return an output. Do this for **`Velocity`**, and all future methods going forwards.<br>\n",
    "2. Further expand **`Coord`** by adding a **`__repr__`** method.<br>\n",
    "    2.1. This should just return the code required to recreate the object.\n",
    "3. Create both a **`Coord`** and a **`Velocity`** object. Test running **`str()`** and **`print`** on them both. <br> \n",
    "    3.1. Does the **`Velocity`** object return the correct values? If not, try using **`self.__class__.__name__`** in the **`__repr__`** method."
   ]
  },
  {
   "cell_type": "code",
   "execution_count": null,
   "metadata": {
    "collapsed": true
   },
   "outputs": [],
   "source": [
    "#Run cell once for solution to previous exercise to use as a template\n",
    "\n",
    "%load \"../Solutions/Exercise_3.py\""
   ]
  },
  {
   "cell_type": "code",
   "execution_count": null,
   "metadata": {},
   "outputs": [],
   "source": [
    "#Complete the Exercise\n",
    "\n"
   ]
  },
  {
   "cell_type": "code",
   "execution_count": null,
   "metadata": {
    "collapsed": true
   },
   "outputs": [],
   "source": [
    "#Run cell once for solution, run twice to run solution code\n",
    "\n",
    "%load \"../Solutions/Exercise_4.py\""
   ]
  },
  {
   "cell_type": "markdown",
   "metadata": {},
   "source": [
    "<hr style=\"width:75%;height:4px;border-width:0;color:gray;background-color:#003d59; opacity:0.75\"> \n",
    "\n",
    "### Comparisons and Combinations\n",
    "\n",
    "#### Comparisons\n",
    "\n",
    "There are a number of magic methods which can be used to both compare objects, and combine them together. It is trivial to understand how to compare two strings or integers - if the strings are the same, **`string_a == string_b`** will return true, likewise for an integer. Greater than and less than behave well - they compare numbers on a numerical scale, and compare strings alphabetically. This comparison can be expanded to user-defined classes as well with a little bit of work. \n",
    "\n",
    "The comparison methods available are:\n",
    "\n",
    "* **`__eq__`** - defines behaviour for **eq**uivalence - **`==`**\n",
    "* **`__ne__`** - defines behaviour for **n**on **e**quivalence -  **`!=`**\n",
    "* **`__lt__`** - defines behaviour for **l**ess **t**han - **`<`**\n",
    "* **`__gt__`** - defines behaviour for **g**reater **t**han - **`>`**\n",
    "* **`__le__`** - defines behaviour for **l**ess than or **e**qual to - **`<=`**\n",
    "* **`__ge__`** - defines behaviour for **g**reater than or **e**qual to - **`>=`**\n",
    "\n",
    "It might not always be suitable to include all methods in a specific class. It would be difficult to quantify which of two parrots was greater and which was lesser, however it is easy to see whether two parrots are identical, or not identical, by comparing their attributes - if all attributes are the same, then the parrots are fundamentally identical. "
   ]
  },
  {
   "cell_type": "markdown",
   "metadata": {},
   "source": [
    "Comparing all attributes could be time consuming - writing code such as:\n",
    "\n",
    "```python \n",
    "self.can_fly == other.can_fly & self.plumage == other.plumage\n",
    "```\n",
    "\n",
    "for all attributes is tedious, and as before, prone to error. Even using the **`all()`** function to save typing the comparisons doesn't help much.   Thankfully, there is another magic_method called **`__dict__`** which can help us out. This displays as a dictionary all attributes of an object - with the attribute names as keys, and the stored value as values. Caution is needed when using this method on built-in objects however, as some have the method overwritten. For user-defined classes this is not a problem as the code can easily be interrogated to see if its functionality has been altered."
   ]
  },
  {
   "cell_type": "code",
   "execution_count": null,
   "metadata": {},
   "outputs": [],
   "source": [
    "polly.__dict__"
   ]
  },
  {
   "cell_type": "markdown",
   "metadata": {},
   "source": [
    "Comparing via **`__dict__`**s means that simple one line methods can be used for the comparisons relevant to a parrot - **`__eq__`** and **`__ne__`**\n",
    "\n",
    "```python\n",
    "\n",
    "    def __eq__(self, other):\n",
    "        \n",
    "        return self.__dict__ == other.__dict__\n",
    "    \n",
    "    def __ne__(self, other):\n",
    "        \n",
    "        return self.__dict__ != other.__dict__\n",
    "    \n",
    "```\n",
    "\n",
    "Straightforwardly, these should return **`True`** if the specified condition is met - for **`__eq__`** if the two objects are the same, while for **`__ne__`** if the objects are *not* the same. \n",
    "\n",
    "The **`Parrot`** definition below has these two new methods and docstrings added."
   ]
  },
  {
   "cell_type": "code",
   "execution_count": null,
   "metadata": {
    "scrolled": true
   },
   "outputs": [],
   "source": [
    "class Parrot(Animal):\n",
    "    \n",
    "    def __init__(self, name, species, can_fly=True):\n",
    "        \"\"\"\n",
    "        Initialises the object and sets some object wide attributes\n",
    "        \n",
    "        Parameters\n",
    "        ----------\n",
    "        name: str\n",
    "            Given name of the parrot in question\n",
    "        species: str\n",
    "            Type of species of the parrot\n",
    "        can_fly: boolean, optional\n",
    "            Whether the parrot can fly. Defaults to True\n",
    "        \n",
    "        Notes\n",
    "        -----\n",
    "        Calls parent animal class init method.\n",
    "        Sets object wide 'plumage' variable to 'Beautiful'\n",
    "        \"\"\"\n",
    "        self.name = name\n",
    "        self.species = species\n",
    "        self.plumage = 'Beautiful'\n",
    "        self.can_fly = can_fly\n",
    "        \n",
    "        Animal.__init__(self) \n",
    "             \n",
    "    def __repr__(self): \n",
    "        \"\"\"\n",
    "        Specialised technical string to allow the recreation of the object. \n",
    "        \n",
    "        Returns\n",
    "        -------\n",
    "        str: call needed to recreate object\n",
    "        \"\"\"\n",
    "        return \"{0}({1}, {2})\".format(self.__class__.__name__,\n",
    "                                      self.name, \n",
    "                                      self.species)\n",
    "    \n",
    "    def __str__(self):\n",
    "        \"\"\"\n",
    "        More casual returned object describing the object.\n",
    "        \n",
    "        Returns\n",
    "        -------\n",
    "        str: text describing the object \n",
    "        \"\"\"\n",
    "        return \"Object is a {0} called {1} with {2} plumage\".format(self.__class__.__name__,\n",
    "                                                                    self.name,\n",
    "                                                                    self.plumage)\n",
    "\n",
    "    def __eq__(self, other):\n",
    "        \"\"\"\n",
    "        Method to compare object with another and test for equivalency\n",
    "        \n",
    "        Parameters\n",
    "        ----------\n",
    "        other: obj\n",
    "            object to compare to\n",
    "        \n",
    "        Returns\n",
    "        -------\n",
    "        boolean: True if object is the same as the comparison, False otherwise\n",
    "        \"\"\"\n",
    "        \n",
    "        return self.__dict__ == other.__dict__\n",
    "        \n",
    "    def __ne__(self, other):\n",
    "        \"\"\"\n",
    "        Method to compare object with another and test for non-equivalency\n",
    "        \n",
    "        Parameters\n",
    "        ----------\n",
    "        other: obj\n",
    "            object to compare to\n",
    "        \n",
    "        Returns\n",
    "        -------\n",
    "        boolean: True if object is NOT the same as the comparison, False otherwise\n",
    "        \"\"\"\n",
    "        \n",
    "        return self.__dict__ != other.__dict__\n",
    "    \n",
    "    def pine(self):\n",
    "        print('{0} is pining for the fjords'.format(self.name))\n",
    "               \n",
    "\n",
    "polly = Parrot('Polly','Norwegian Blue')\n"
   ]
  },
  {
   "cell_type": "code",
   "execution_count": null,
   "metadata": {
    "collapsed": true
   },
   "outputs": [],
   "source": [
    "polly_two = Parrot('Polly', 'Norwegian Blue')\n",
    "iago = Parrot('Iago', 'Scarlet Macaw')"
   ]
  },
  {
   "cell_type": "code",
   "execution_count": null,
   "metadata": {},
   "outputs": [],
   "source": [
    "# should return True as functionally identical\n",
    "polly == polly_two "
   ]
  },
  {
   "cell_type": "code",
   "execution_count": null,
   "metadata": {},
   "outputs": [],
   "source": [
    "# should return False as name and species are different\n",
    "polly == iago"
   ]
  },
  {
   "cell_type": "markdown",
   "metadata": {},
   "source": [
    "There is a drawback with using the **`__dict__`** values for comparison - if a second class was created, which had the same attributes as the first, *but* with different methods, it would not be impossible for two objects to appear as identical, despite the actual differences. This however is a very niche issue, and is unlikely to arise. "
   ]
  },
  {
   "cell_type": "markdown",
   "metadata": {},
   "source": [
    "<hr style=\"width:75%;height:4px;border-width:0;color:gray;background-color:#003d59; opacity:0.75\"> \n",
    "\n",
    "### Exercise 5\n",
    "\n",
    "1. Expand the **`Coord`** class from Exercise 4 by adding magic methods for **`__eq__`** and **`__ne__`**. <br>\n",
    "    1.1. These should return True if the x, y, and z, values match for **`__eq__`**, and the oppposite for **`__ne__`**. <br>\n",
    "    1.2. They should also return False if the names of the two objects don't match - use **`self.__class__.__name__`** to compare.  \n",
    "2. Add methods for the following comparison operators to the **`Coord`** class: less than, **`<`**, less than or equal to, **`<=`**, greater than, **`>`**, and greater than or equal to **`>=`**<br>\n",
    "    2.1. These should compare the absolute distance of the points under consideration. <br>\n",
    "    2.2. They should return False if the names of the two objects don't match as in 1.2 - comparing a **`Velocity`** with a **`Coord`** is not a reasonable thing to do.\n",
    "3. Test the classes. <br>\n",
    "    3.1. Create two **`Coord`** objects with different numerical values. Test out the comparison methods created above.<br>\n",
    "    3.2. Create a **`Velocity`** object. Test comparing it with the **`Coord`** objects.\n",
    "\n"
   ]
  },
  {
   "cell_type": "code",
   "execution_count": null,
   "metadata": {
    "collapsed": true
   },
   "outputs": [],
   "source": [
    "#Run cell once for solution to previous exercise to use as a template\n",
    "\n",
    "%load \"../Solutions/Exercise_4.py\"\n"
   ]
  },
  {
   "cell_type": "code",
   "execution_count": null,
   "metadata": {},
   "outputs": [],
   "source": [
    "#Complete the Exercise\n",
    "\n"
   ]
  },
  {
   "cell_type": "code",
   "execution_count": null,
   "metadata": {
    "collapsed": true
   },
   "outputs": [],
   "source": [
    "#Run cell once for solution, run twice to run solution code\n",
    "\n",
    "%load \"../Solutions/Exercise_5.py\""
   ]
  },
  {
   "cell_type": "markdown",
   "metadata": {},
   "source": [
    "<hr style=\"width:75%;height:4px;border-width:0;color:gray;background-color:#003d59; opacity:0.75\"> \n",
    "\n",
    "#### Combinations\n",
    "\n",
    "There are also a set of methods available to allow for objects to be combined via standard operators such as **`+`** and **`*`**. There are a vast number of these, and again, not all will be useful for every object. Some of them are listed below:\n",
    "\n",
    "* **`__add__`** - defines behaviour for **add**ition - **`+`**\n",
    "* **`__sub__`** - defines behaviour for **sub**traction -  **`-`**\n",
    "* **`__mul__`** - defines behaviour for the **mul**tiplication - **`*`**\n",
    "* **`__pow__`** - defines behaviour for the **pow**er operator - __`**`__\n",
    "* **`__abs__`** - defines behaviour for the **`abs`** function \n",
    "* **`__round__`** - defines behaviour for the **`round`** function\n",
    "\n",
    "Some of these methods take an extra argument - for the value being added, subtracted or multipled - but others do not - finding the absolute value requires no secondary arguments. \n",
    "\n",
    "When considering methods such as **`__add__`**, it is important to think about commutativity. This is the principle that $a\\times b=b\\times a$ - the order of operations does not matter. For numbers, addition and multiplication clearly are commutative, while subtraction and division are not. In python, string combination using the addition operator is not commutative - **`\"a\" + \"b\" == \"ab\"`**, while **`\"b\" + \"a\" == \"ba\"`**. For user-defined classes, should they be commutative? Again, it will depend on the class in question. \n",
    "\n",
    "Within a user-defined class, if **`__add__`** is included, the class will be able to have things added to it - **`object + other_thing`**. However, **`other_thing + object`** will by default not work, as the class definition of **`other_thing`** will be called, and its **`__add__`** method used to handle the addition, which almost certainly *won't* work for the other class. \n",
    "\n",
    "Conveniently, there are magic methods available to handle this and allow us to add our objects to things, rather than just adding things to our objects. These are called reflected operators, and are generally the same as the normal ones above, but with an **`r`** at the beginning:\n",
    "\n",
    "* **`__radd__`** - defines reflected behaviour for **add**ition - **`+`**\n",
    "* **`__rsub__`** - defines reflected behaviour for **sub**traction -  **`-`**\n",
    "* **`__rmul__`** - defines reflected behaviour for the **mul**tiplication - **`*`**\n",
    "* **`__rpow__`** - defines reflected behaviour for the **pow**er operator - __`**`__\n",
    "\n",
    "There are also some methods for handling operators such as **`+=`** - for assignment coupled with addition. These are generally the same as the normal ones above, but instead have an **`i`** at the beginning - **`i`** standing for **`in-place`**:\n",
    "\n",
    "* **`__iadd__`** - defines behaviour for **add**ition with assignment - **`+=`**\n",
    "* **`__isub__`** - defines behaviour for **sub**traction with assignment -  **`-=`**\n",
    "* **`__imul__`** - defines behaviour for the **mul**tiplication with assignment - **`*=`**\n",
    "* **`__ipow__`** - defines behaviour for the **pow**er operator with assignment - __`**=`__ \n",
    "\n",
    "If the processes in the original method are commutative, then generally the reflective and assignation operators can simply return the core method to save having to duplicate code:\n",
    "\n",
    "```python\n",
    "\n",
    "def __radd__(self, other):\n",
    "    return self.__add__(other)\n",
    "\n",
    "def __iadd__(self, other):\n",
    "    return self.__add__(other)\n",
    "\n",
    "```\n",
    "\n",
    "With all these methods, thought should be given to how they handle unexpected data types. Putting an **`assert`** statement testing the variable type using **`isinstance`** at the beginning will make sure only expected data types are used and will will avoid odd behaviour that could arise. \n",
    "\n",
    "Using **`self.__class__`** as the comparison will again allow the overall class name to change in future without having to make changes throughout - it returns the class of the containing object, in this case, **`Parrot`**.\n",
    "\n",
    "```python\n",
    "\n",
    "assert isinstance(other, self.__class__), \"method can only handle objects of type {0}\".format(self.__class__.__name__)\n",
    "```\n",
    "\n"
   ]
  },
  {
   "cell_type": "code",
   "execution_count": null,
   "metadata": {
    "scrolled": true
   },
   "outputs": [],
   "source": [
    "class Parrot(Animal):\n",
    "    \n",
    "    def __init__(self, name, species, can_fly=True):\n",
    "        \"\"\"\n",
    "        Initialises the object and sets some object wide attributes\n",
    "        \n",
    "        Parameters\n",
    "        ----------\n",
    "        name: str\n",
    "            Given name of the parrot in question\n",
    "        species: str\n",
    "            Type of species of the parrot\n",
    "        can_fly: boolean, optional\n",
    "            Whether the parrot can fly. Defaults to True\n",
    "        \n",
    "        Notes\n",
    "        -----\n",
    "        Calls parent animal class init method.\n",
    "        Sets object wide 'plumage' variable to 'Beautiful'\n",
    "        \"\"\"\n",
    "        self.name = name\n",
    "        self.species = species\n",
    "        self.plumage = 'Beautiful'\n",
    "        self.can_fly = can_fly\n",
    "        \n",
    "        Animal.__init__(self) \n",
    "             \n",
    "    def __repr__(self): \n",
    "        \"\"\"\n",
    "        Specialised technical string to allow the recreation of the object. \n",
    "        \n",
    "        Returns\n",
    "        -------\n",
    "        str: call needed to recreate object\n",
    "        \"\"\"\n",
    "        return \"{0}({1}, {2})\".format(self.__class__.__name__,\n",
    "                                      self.name, \n",
    "                                      self.species)\n",
    "    \n",
    "    def __str__(self):\n",
    "        \"\"\"\n",
    "        More casual returned object describing the object.\n",
    "        \n",
    "        Returns\n",
    "        -------\n",
    "        str: text describing the object \n",
    "        \"\"\"\n",
    "        return \"Object is a {0} called {1} with {2} plumage\".format(self.__class__.__name__,\n",
    "                                                                    self.name,\n",
    "                                                                    self.plumage)\n",
    "\n",
    "    def __eq__(self, other):\n",
    "        \"\"\"\n",
    "        Method to compare object with another and test for equivalency\n",
    "        \n",
    "        Parameters\n",
    "        ----------\n",
    "        other: obj\n",
    "            object to compare to\n",
    "        \n",
    "        Returns\n",
    "        -------\n",
    "        boolean: True if object is the same as the comparison, False otherwise\n",
    "        \"\"\"\n",
    "        \n",
    "        return self.__dict__ == other.__dict__\n",
    "        \n",
    "    def __ne__(self, other):\n",
    "        \"\"\"\n",
    "        Method to compare object with another and test for non-equivalency\n",
    "        \n",
    "        Parameters\n",
    "        ----------\n",
    "        other: obj\n",
    "            object to compare to\n",
    "        \n",
    "        Returns\n",
    "        -------\n",
    "        boolean: True if object is NOT the same as the comparison, False otherwise\n",
    "        \"\"\"\n",
    "        \n",
    "        return self.__dict__ != other.__dict__\n",
    "    \n",
    "    def __add__(self, other):\n",
    "        \"\"\"\n",
    "        Allows the addition of parrots to generate more parrot objects\n",
    "        \n",
    "        Parameters\n",
    "        ----------\n",
    "        other: parrot\n",
    "            secondary parrot to combine with\n",
    "            \n",
    "        Returns\n",
    "        -------\n",
    "        parrot: a third parrot with a name and species made up of concatenations of the original\n",
    "        \"\"\"\n",
    "        \n",
    "        # check to see if other is of the same type as this - another parrot\n",
    "        assert isinstance(other, self.__class__), 'can only add parrots to parrots'\n",
    "        \n",
    "        # new name is name of first parrot minus the last character, plus\n",
    "        # name of second parrot, minus the first character\n",
    "        combined_name = self.name[:-1] + other.name[1:]\n",
    "        \n",
    "        # new species is first word of first parrot species, plus second word \n",
    "        # of second parrot species\n",
    "        combined_species = self.species.split(' ')[0] + ' ' + \\\n",
    "                           other.species.split(' ')[1] \n",
    "        \n",
    "        offspring = self.__class__(combined_name, combined_species)\n",
    "        \n",
    "        return offspring\n",
    "    \n",
    "    def pine(self):\n",
    "        print('{0} is pining for the fjords'.format(self.name))\n",
    "               \n",
    "\n",
    "polly = Parrot('Polly','Norwegian Blue')\n",
    "iago = Parrot('Iago', 'Scarlet Macaw')\n",
    "\n",
    "polly + iago"
   ]
  },
  {
   "cell_type": "code",
   "execution_count": null,
   "metadata": {},
   "outputs": [],
   "source": [
    "iago + polly"
   ]
  },
  {
   "cell_type": "markdown",
   "metadata": {},
   "source": [
    "The assertion will block attempts to add a basic **`Animal`** object to a **`Parrot`**. Also, as only parrots can be added to parrots, there is no need to add a **`__radd__`** method, as reordering the parrots still works, it just uses the **`__add__`** of whichever parrot comes first - this addition is *not* commutative due to the way in which the offspring name and species are generated. It also doesn't make much sense to add a **`__iadd__`** method either, as a new parrot is being generated, rather than an old one being overwritten. \n",
    "\n",
    "Were an assignment addition method added, the results of **`polly += iago`** would be stored in **`polly`** - if it were run a few more times, the resulting object would have a name along the lines of **`Pollagagagago`** as each time the name will be extended with another **`ago`**!\n"
   ]
  },
  {
   "cell_type": "markdown",
   "metadata": {},
   "source": [
    "Methods can also return **`self`** - this is seen often in pandas, where methods on a **`DataFrame`** often return a **`DataFrame`** object, to allow for methods to be chained together."
   ]
  },
  {
   "cell_type": "markdown",
   "metadata": {},
   "source": [
    "\n",
    "\n",
    "<hr style=\"width:50%;height:4px;border-width:0;color:gray;background-color:#003d59; opacity:0.5\"> \n",
    "\n",
    "#### Checking Validity\n",
    "\n",
    "The above uses **`isinstance()`** to see whether something can be combined with a **`Parrot`** - only other parrots. This gets a bit trickier if the **`__add__`** magic method is in the parent class, as a **`Parrot`** is considered to be an instance of an **`Animal`**. If the **`Animal`** class has the magic methods, any of its child classes will be considered instances of it, which would allow child objects to be added to the parent as the **`assert`** would unfortunately pass. "
   ]
  },
  {
   "cell_type": "code",
   "execution_count": null,
   "metadata": {},
   "outputs": [],
   "source": [
    "print(isinstance(manfred, Animal))\n",
    "print(isinstance(manfred, Parrot)) #FALSE!\n",
    "print(isinstance(polly, Animal))\n",
    "print(isinstance(polly, Parrot))"
   ]
  },
  {
   "cell_type": "markdown",
   "metadata": {},
   "source": [
    "||Parent|Child|\n",
    "|:---|---:|---:|\n",
    "|**Parent**|isinstance: True|isinstance: False|\n",
    "|**Child**|isinstance: True|isinstance: True|\n",
    "\n",
    "Generally the leading diagonal of the table is unimportant, as if the two objects are of the same class - either both the parent or both the child - they should be combinable. If they are different though, the fact that a child is an instance of a parent, coupled with the parent NOT being an instance of the child, is enough to distinguish them. Two **`assert`** statements can be used, one stating that the object being added, the **`other`** object, must of the same type as the containing class, and the other stating that the containing class must be of the same type as the **`other`** object. \n",
    "\n",
    "The asserts are not commutative; the parent is not the same type as the child, while the child IS the same type as the parent. "
   ]
  },
  {
   "cell_type": "markdown",
   "metadata": {},
   "source": [
    "```python\n",
    "assert isinstance(other, self.__class__), \\\n",
    "        \"objects to be added must be {0}\".format(self.__class__.__name__)\n",
    "assert isinstance(self, other.__class__), \\\n",
    "        \"objects to be added must not be children of {0},\\\n",
    "        they must be {0}\".format(self.__class__.__name__)\n",
    "```\n",
    "\n",
    "The first assert will handle any variables being combined which are not of either the parent or child, and the second will make sure that the they are not parent and child, but either both parent, or both child. \n",
    "\n",
    "Two parents will pass both asserts, two children will also pass both asserts, but if one is a parent and one a child, they will pass only one of the two asserts, and the other will fail, no matter which way round the objects are. "
   ]
  },
  {
   "cell_type": "markdown",
   "metadata": {},
   "source": [
    "<hr style=\"width:75%;height:4px;border-width:0;color:gray;background-color:#003d59; opacity:0.75\"> \n",
    "\n",
    "### Exercise 6\n",
    " \n",
    "1. Expand the **`Coord`** class from Exercise 5 by adding a magic method for **`__add__`**.<br>\n",
    "    1.1. This should accept one other argument, another object of the same class, and return a new object - the original values added to those of the other object<br>\n",
    "    1.2. Ensure that the method will only be able to add coords to coords, and velocities to velocities, by adding in assert statements as above.<br>\n",
    "    1.3. Add **`__radd__`** and **`__iadd__`** methods which call the main **`__add__`** method. While **`__radd__`** at current isn't very useful by itself as only the coord family of classes can be added, if the original **`__add__`** method was expanded to allow numerical collections of length 3 as an input, reflecting the original method will allow addition in either direction. \n",
    "2. Expand the **`Velocity`** class to be able to multiply it with a singular numerical time value using **`__mul__`**.<br>\n",
    "    2.1. This should return a coordinate with values equal to those of the original velocity object multiplied by the time.\n",
    "3. Test the classes. <br>\n",
    "    3.1. Create two **`Coord`** objects with different numerical values. Test adding them together. <br>\n",
    "    3.2. Create a **`Velocity`** object. Test adding it to the **`Coord`** objects.<br>\n",
    "    3.3. Test the addition of a **`Coord`** object, with the results of multiplying the **`Velocity`** object by a time value.  \n",
    "\n"
   ]
  },
  {
   "cell_type": "code",
   "execution_count": null,
   "metadata": {
    "collapsed": true
   },
   "outputs": [],
   "source": [
    "#Run cell once for solution to previous exercise to use as a template\n",
    "\n",
    "%load \"../Solutions/Exercise_5.py\"\n"
   ]
  },
  {
   "cell_type": "code",
   "execution_count": null,
   "metadata": {
    "collapsed": true
   },
   "outputs": [],
   "source": [
    "#Complete the Exercise\n",
    "\n"
   ]
  },
  {
   "cell_type": "code",
   "execution_count": null,
   "metadata": {},
   "outputs": [],
   "source": [
    "#Run cell once for solution, run twice to run solution code\n",
    "\n",
    "%load \"../Solutions/Exercise_6.py\""
   ]
  },
  {
   "cell_type": "markdown",
   "metadata": {},
   "source": [
    "<hr style=\"width:75%;height:4px;border-width:0;color:gray;background-color:#003d59; opacity:0.75\"> \n",
    "\n",
    "### Changing Objects\n",
    "\n",
    "#### Getters and Setters\n",
    "\n",
    "Objects once defined can be changed, in a number of ways. Python doesn't have public and private methods in the same way that many other languages such as Java or C# do, but it does have some conventions. In general, any functions, or class based variables which have a name beginning with an underscore are considered to be private, and should only be accessed from other methods inside the object. They will not show up in any autofill lists provided by IDEs, but as it is just convention, they can be used outside, despite it being inadvisable. \n",
    "\n",
    "As any attribute is accessible within an object, changing it can be as simple as running: \n",
    "\n",
    "```python\n",
    "polly.name = 'Penelope'\n",
    "```\n",
    "\n",
    "There is no need, again unlike Java, to create get or set methods - methods to call an attribute of a class, and to change its value. It is straightforward to do so, by just adding a couple of extra methods to the class:\n",
    "\n",
    "```python\n",
    "\n",
    "def get_name(self):\n",
    "    return self.name\n",
    "\n",
    "def set_name(self, new_name):\n",
    "    self.name = new_name    \n",
    "```\n",
    "\n",
    "And then the following methods will work absolutely fine. \n",
    "\n",
    "```python\n",
    "polly.get_name() #returns polly\n",
    "polly.set_name('Penelope') #overwrites name\n",
    "```\n",
    "\n",
    "However, this is often unnecessary, and it is both clunkier for the user, and less intuitive. Adding get or set methods could be useful if some validation is needed, for example ensuring that a new name is text rather than an integer, but thankfully Python provides us with a useful tool for allowing the definition of methods that act like the above, but directly affect the output when attributes are referred to directly - the **`property`** function.   \n"
   ]
  },
  {
   "cell_type": "markdown",
   "metadata": {},
   "source": [
    "In the toy example below, a new **`Person`** class is added, which has a name attribute. Some validation is required, as above, that the name MUST be a **`str`**, so adding in a **`get_`**, **`set_`** pair makes some level of sense. However, this example does not block a user from accessing the **`name`** attribute directly! "
   ]
  },
  {
   "cell_type": "code",
   "execution_count": null,
   "metadata": {},
   "outputs": [],
   "source": [
    "class Person:\n",
    "    \n",
    "    def __init__(self, name):\n",
    "        self.name = name\n",
    "        \n",
    "    def get_name(self):\n",
    "        return name\n",
    "    \n",
    "    def set_name(self, new_name):\n",
    "        assert isinstance(new_name, str), 'can only change names to strings!'\n",
    "        self.name = new_name\n",
    "        \n",
    "        \n",
    "alice = Person('Alice')\n",
    "\n",
    "alice.set_name(132)"
   ]
  },
  {
   "cell_type": "markdown",
   "metadata": {},
   "source": [
    "**`set_name`** does not run if **`alice.name`** is assigned directly! The validation step is useless!"
   ]
  },
  {
   "cell_type": "code",
   "execution_count": null,
   "metadata": {},
   "outputs": [],
   "source": [
    "#set_name only works as validation, if it is used!\n",
    "alice.name = 132\n",
    "print(alice.name)"
   ]
  },
  {
   "cell_type": "markdown",
   "metadata": {},
   "source": [
    "<hr style=\"width:50%;height:4px;border-width:0;color:gray;background-color:#003d59; opacity:0.5\"> \n",
    "\n",
    "#### Properties\n",
    "\n",
    "This can be fixed, using **`property()`**. This function takes three arguments, a get method, a set method, and a third delete method. Not all have to be defined, but its advisable to include both get and set, as otherwise it can be very difficult to access attributes. \n",
    "\n",
    "In the following class, the original **`name`** attribute has been hidden, by adding an underscore to the beginning of it - this applies to all of the methods. Likewise, the get and set methods have preceeding underscores, as they no longer need to be called directly.  The last line in the class definition is the key one:\n",
    "```python\n",
    "name = property(_get_name, _set_name)\n",
    "```\n",
    "\n",
    "This creates a class wide **`name`** attribute, with specific behaviour specified by the methods passed in. Now, any attempt to assign directly to, or call directly from, the attribute, will result in the predefined methods being called instead!\n"
   ]
  },
  {
   "cell_type": "code",
   "execution_count": null,
   "metadata": {},
   "outputs": [],
   "source": [
    "class Person:\n",
    "    \n",
    "    def __init__(self, name):\n",
    "        self._name = name\n",
    "        \n",
    "    def _get_name(self):\n",
    "        print('running _get_name()!')\n",
    "        return self._name\n",
    "    \n",
    "    def _set_name(self, new_name):\n",
    "        print('running _set_name()!')\n",
    "        assert isinstance(new_name, str), 'can only change names to strings!'\n",
    "        self._name = new_name\n",
    "    \n",
    "    name = property(_get_name, _set_name)\n",
    "        \n",
    "alice = Person('Alice')\n",
    "\n",
    "print(alice.name)\n",
    "alice.name = 132"
   ]
  },
  {
   "cell_type": "markdown",
   "metadata": {},
   "source": [
    "Calling the attribute directly runs the get method, and assigning to it directly calls the set method. A savvy user could still get past the validation, as there is indeed still a **`._name`** hidden attribute with no validation, but fundamentally that is not going to be an issue. \n",
    "\n",
    "As all of the methods that users shouldn't have access to are hidden, the only option for this toy class when autocomplete is attempted, is the **`name`** property! Indeed, as it is the only thing that they can easily do, pressing tab after typing **`alice.`** will autofill the **`name`**. "
   ]
  },
  {
   "cell_type": "code",
   "execution_count": null,
   "metadata": {
    "collapsed": true
   },
   "outputs": [],
   "source": [
    "alice."
   ]
  },
  {
   "cell_type": "markdown",
   "metadata": {},
   "source": [
    "<hr style=\"width:50%;height:4px;border-width:0;color:gray;background-color:#003d59; opacity:0.5\"> \n",
    "\n",
    "#### Decorators\n",
    "\n",
    "An alternate way of setting properties is using decorators. Decorators are a way to wrap a function, class, or method, in a another function, to expand their capability. The **`@property`** decorator is used to set up a getter, and then an optional setter property can be created from the getter.\n",
    "\n",
    "As before, the name must be set to a string. Direct assignment uses the **`name`** method, where the validation can be found, so an assertion error is expected below."
   ]
  },
  {
   "cell_type": "code",
   "execution_count": null,
   "metadata": {},
   "outputs": [],
   "source": [
    "class Person:\n",
    "    \n",
    "    def __init__(self, name):\n",
    "        self._name = name\n",
    "        \n",
    "    @property #defines name, accessible as any attribute\n",
    "    def name(self):\n",
    "        print('running _get_name()!')\n",
    "        return self._name\n",
    "    \n",
    "    @name.setter #defines the setter for name, optional, the decorator references the above property name\n",
    "    def name(self, new_name):\n",
    "        print('running _set_name()!')\n",
    "        assert isinstance(new_name, str), 'can only change names to strings!'\n",
    "        self._name = new_name\n",
    "        \n",
    "alice = Person('Alice')\n",
    "\n",
    "print(alice.name)\n",
    "alice.name = 132"
   ]
  },
  {
   "cell_type": "markdown",
   "metadata": {},
   "source": [
    "There are many other decorators which might be of interest to those who are creating their own classes. One notable one is the **`dataclass`** from the **`dataclasses`** module. This can make simple classes far easier to write. Imagine that a class is needed to represent a 2-d point on a plane. To define the point, an **`x`** and **`y`** position need to be specified for every object. Given what has been covered, this would be written as the following:"
   ]
  },
  {
   "cell_type": "code",
   "execution_count": null,
   "metadata": {},
   "outputs": [],
   "source": [
    "class Point:\n",
    "    \"\"\"Class to represent a location. Callable to update the location's position.\"\"\"\n",
    "\n",
    "    def __init__(self, x, y):\n",
    "        self.x = x \n",
    "        self.y = y    \n",
    "        \n",
    "p = Point(2, 3)\n",
    "p.x, p.y"
   ]
  },
  {
   "cell_type": "markdown",
   "metadata": {},
   "source": [
    "Using a **`dataclass`** makes the definition of this class incredible simple:"
   ]
  },
  {
   "cell_type": "code",
   "execution_count": null,
   "metadata": {},
   "outputs": [],
   "source": [
    "from dataclasses import dataclass\n",
    "\n",
    "@dataclass\n",
    "class Point:\n",
    "    x: float\n",
    "    y: float\n",
    "                \n",
    "p = Point(3, 4)\n",
    "p.x, p.y"
   ]
  },
  {
   "cell_type": "markdown",
   "metadata": {},
   "source": [
    "The decorator does all of the work of defining the initialisation method. The two required attributes have been created, with a lot less code to write, or for other developers to parse. Other methods can be added to the class as above, the decorator just simplifies the initialisation of objects. The **`: float`** is essential to make the decorator work, but does not actually enforce the datatype on the attribute. "
   ]
  },
  {
   "cell_type": "markdown",
   "metadata": {},
   "source": [
    "<hr style=\"width:50%;height:4px;border-width:0;color:gray;background-color:#003d59; opacity:0.5\"> \n",
    "\n",
    "#### Callable objects\n",
    "\n",
    "Objects can also be made callable. This gives objects the ability to behave like functions - they can be called using the magic method **`__call__`**. This method should be thought of as the effect when **`object(...)`** is run. It usefully provides an easy and elegant way to change the state of an object which might need to be altered frequently, such as in the following **`Point`** class. A standard initiator is followed by the call method, the body of which is in this case exactly the same as that of the initiator. "
   ]
  },
  {
   "cell_type": "code",
   "execution_count": null,
   "metadata": {},
   "outputs": [],
   "source": [
    "class Point:\n",
    "    \"\"\"Class to represent a location. Callable to update the location's position.\"\"\"\n",
    "\n",
    "    def __init__(self, x, y):\n",
    "        self.x = x \n",
    "        self.y = y\n",
    "\n",
    "    def __call__(self, x, y):\n",
    "        \"\"\"Change the position of the point.\"\"\"\n",
    "        print('point location changed!')\n",
    "        self.x = x \n",
    "        self.y = y\n",
    "    \n",
    "p = Point(2, 3)\n",
    "print(p.x, p.y)\n",
    "p(3, 4)\n",
    "print(p.x, p.y)"
   ]
  },
  {
   "cell_type": "markdown",
   "metadata": {},
   "source": [
    "As always with python, there is no one way of performing a task, and changing the values of attributes of a class is no different. "
   ]
  },
  {
   "cell_type": "markdown",
   "metadata": {},
   "source": [
    "<hr style=\"width:75%;height:4px;border-width:0;color:gray;background-color:#003d59; opacity:0.75\"> \n",
    "\n",
    "### Exercise 7\n",
    "\n",
    "1. Adapt the **`Coord`** class from Exercise 6 to use the **`dataclass`** decorator. \n",
    "2. Convert **`x`**, **`y`**, and **`z`** to be properties with suitable get and set methods. <br>\n",
    "    2.1. The set method should check to make sure the value being set is not a string. \n",
    "3. Adapt the **`Coord`** class to allow the values to change when called by implementing a **`__call__`** method. "
   ]
  },
  {
   "cell_type": "code",
   "execution_count": null,
   "metadata": {
    "collapsed": true
   },
   "outputs": [],
   "source": [
    "#Run cell once for solution to previous exercise to use as a template\n",
    "\n",
    "%load \"../Solutions/Exercise_6.py\"\n"
   ]
  },
  {
   "cell_type": "code",
   "execution_count": null,
   "metadata": {
    "collapsed": true
   },
   "outputs": [],
   "source": [
    "#Complete the Exercise\n",
    "\n"
   ]
  },
  {
   "cell_type": "code",
   "execution_count": null,
   "metadata": {
    "collapsed": true
   },
   "outputs": [],
   "source": [
    "#Run cell once for solution, run twice to run solution code\n",
    "\n",
    "%load \"../Solutions/Exercise_7.py\""
   ]
  },
  {
   "cell_type": "markdown",
   "metadata": {},
   "source": [
    "[Return to Top](#Object-Orientated-Programming)\n",
    "<hr style=\"width:100%;height:4px;border-width:0;color:gray;background-color:#003d59; opacity:1\"> \n",
    "\n",
    "## Case Study\n",
    "\n",
    "Create a logging class. \n",
    "* The logger should have at least 3 methods - `info`, `warning`, and `error`. \n",
    "* Each method should take in a string message, and write it out as a log message.\n",
    "* It should be initialised to a user defined `log.txt` file. \n",
    "* On initialisation, the user should be able to optionally have each type of `info`, `warning`, and `error` messages not write.\n",
    "* The logger should write to both the console, and the log file defined. \n",
    "* Messages should take the form of: `timestamp LOGTYPE: message` e.g. `2020-01-01 16:05:22.144991 INFO: This is an informative message` \n",
    "* Like all good functions and classes, docstrings should be included\n",
    "* Think about the magic methods explored above. Could any be included? Are there any attributes that could be properties? \n",
    "\n",
    "Hints:\n",
    "\n",
    "* The datetime package has a datetime class which can be used to get the current timestamp\n",
    "* Writing out to a text file is slightly different than writing a dataframe to a CSV\n",
    "  * The basic method is to open a file, write some content to it, then close it afterwards. If the file isn't closed, it can cause issues when trying to write to it again\n",
    "  * Python can handle opening and automatically closing by using the `with` statement. While inside the indented block, the file will be open. When finished, the file will close. \n",
    "  * In the example below, the `open()` function is used with the filepath to write to, and setting the mode to `a` for append. It is saved as the variable `f`, and then `f.write()` is passed a string to write to the file.\n",
    " \n",
    ">`with open('log.txt', mode='a') as f:\n",
    "   f.write('text to write out goes here')`\n",
    "   \n",
    "* When combining the log message, adding a newline character `\\n` at the end will ensure each entry to the log file will be entered on a new line."
   ]
  },
  {
   "cell_type": "code",
   "execution_count": null,
   "metadata": {},
   "outputs": [],
   "source": [
    "#Run cell once for solution, run twice to run solution code\n",
    "\n",
    "%load \"../Solutions/case_study_logger.py\"\n",
    "            "
   ]
  },
  {
   "cell_type": "markdown",
   "metadata": {},
   "source": [
    "[Return to Top](#Object-Orientated-Programming)\n",
    "<hr style=\"width:100%;height:4px;border-width:0;color:gray;background-color:#003d59; opacity:1\"> \n",
    "\n",
    "## Summary\n",
    "\n",
    "Learners should now:\n",
    "\n",
    "- Have a better understanding of previously experienced Python objects\n",
    "- Be able to create simple classes to hold data\n",
    "- Be able to augment classes with complicated methods and powerful tools\n",
    "- Be familiar with:\n",
    "    - inheriting objects\n",
    "    - comparing objects\n",
    "    - combining objects\n",
    "    - decorating objects\n",
    "\n",
    "Please complete the Post-Course survey on the Learning Hub to complete your learning. "
   ]
  }
 ],
 "metadata": {
  "interpreter": {
   "hash": "e7c37ba80a6e54a3d63188245ab5de6a3e0d381993bcb1990a7020536fc2299e"
  },
  "kernelspec": {
   "display_name": "Python 3",
   "language": "python",
   "name": "python3"
  },
  "language_info": {
   "codemirror_mode": {
    "name": "ipython",
    "version": 3
   },
   "file_extension": ".py",
   "mimetype": "text/x-python",
   "name": "python",
   "nbconvert_exporter": "python",
   "pygments_lexer": "ipython3",
   "version": "3.6.1"
  }
 },
 "nbformat": 4,
 "nbformat_minor": 2
}
